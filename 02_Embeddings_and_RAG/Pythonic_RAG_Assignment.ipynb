{
 "cells": [
  {
   "cell_type": "markdown",
   "metadata": {
    "id": "lElF3o5PR6ys"
   },
   "source": [
    "# Your First RAG Application\n",
    "\n",
    "In this notebook, we'll walk you through each of the components that are involved in a simple RAG application.\n",
    "\n",
    "We won't be leveraging any fancy tools, just the OpenAI Python SDK, Numpy, and some classic Python.\n",
    "\n",
    "> NOTE: This was done with Python 3.12.3.\n",
    "\n",
    "> NOTE: There might be [compatibility issues](https://github.com/wandb/wandb/issues/7683) if you're on NVIDIA driver >552.44 As an interim solution - you can rollback your drivers to the 552.44."
   ]
  },
  {
   "cell_type": "markdown",
   "metadata": {
    "id": "5CtcL8P8R6yt"
   },
   "source": [
    "## Table of Contents:\n",
    "\n",
    "- Task 1: Imports and Utilities\n",
    "- Task 2: Documents\n",
    "- Task 3: Embeddings and Vectors\n",
    "- Task 4: Prompts\n",
    "- Task 5: Retrieval Augmented Generation\n",
    "  - 🚧 Activity #1: Augment RAG"
   ]
  },
  {
   "cell_type": "markdown",
   "metadata": {
    "id": "1Dz6GYilR6yt"
   },
   "source": [
    "Let's look at a rather complicated looking visual representation of a basic RAG application.\n",
    "\n",
    "<img src=\"https://i.imgur.com/vD8b016.png\" />"
   ]
  },
  {
   "cell_type": "markdown",
   "metadata": {
    "id": "PjmC0KFtR6yt"
   },
   "source": [
    "## Task 1: Imports and Utility\n",
    "\n",
    "We're just doing some imports and enabling `async` to work within the Jupyter environment here, nothing too crazy!"
   ]
  },
  {
   "cell_type": "code",
   "execution_count": 1,
   "metadata": {
    "id": "Z1dyrG4hR6yt"
   },
   "outputs": [],
   "source": [
    "from aimakerspace.text_utils import TextFileLoader, CharacterTextSplitter\n",
    "from aimakerspace.vectordatabase import VectorDatabase\n",
    "import asyncio"
   ]
  },
  {
   "cell_type": "code",
   "execution_count": 2,
   "metadata": {
    "id": "9OrFZRnER6yt"
   },
   "outputs": [],
   "source": [
    "import nest_asyncio\n",
    "nest_asyncio.apply()"
   ]
  },
  {
   "cell_type": "markdown",
   "metadata": {
    "id": "M0jGnpQsR6yu"
   },
   "source": [
    "## Task 2: Documents\n",
    "\n",
    "We'll be concerning ourselves with this part of the flow in the following section:\n",
    "\n",
    "<img src=\"https://i.imgur.com/jTm9gjk.png\" />"
   ]
  },
  {
   "cell_type": "markdown",
   "metadata": {
    "id": "-SFPWvRUR6yu"
   },
   "source": [
    "### Loading Source Documents\n",
    "\n",
    "So, first things first, we need some documents to work with.\n",
    "\n",
    "While we could work directly with the `.txt` files (or whatever file-types you wanted to extend this to) we can instead do some batch processing of those documents at the beginning in order to store them in a more machine compatible format.\n",
    "\n",
    "In this case, we're going to parse our text file into a single document in memory.\n",
    "\n",
    "Let's look at the relevant bits of the `TextFileLoader` class:\n",
    "\n",
    "```python\n",
    "def load_file(self):\n",
    "        with open(self.path, \"r\", encoding=self.encoding) as f:\n",
    "            self.documents.append(f.read())\n",
    "```\n",
    "\n",
    "We're simply loading the document using the built in `open` method, and storing that output in our `self.documents` list.\n",
    "\n",
    "> NOTE: We're using blogs from PMarca (Marc Andreessen) as our sample data. This data is largely irrelevant as we want to focus on the mechanisms of RAG, which includes out data's shape and quality - but not specifically what the contents of the data are. \n"
   ]
  },
  {
   "cell_type": "code",
   "execution_count": 3,
   "metadata": {
    "colab": {
     "base_uri": "https://localhost:8080/"
    },
    "id": "Ia2sUEuGR6yu",
    "outputId": "84937ecc-c35f-4c4a-a4ab-9da72625954c"
   },
   "outputs": [
    {
     "data": {
      "text/plain": [
       "1"
      ]
     },
     "execution_count": 3,
     "metadata": {},
     "output_type": "execute_result"
    }
   ],
   "source": [
    "text_loader = TextFileLoader(\"data/PMarcaBlogs.txt\")\n",
    "documents = text_loader.load_documents()\n",
    "len(documents)"
   ]
  },
  {
   "cell_type": "code",
   "execution_count": 4,
   "metadata": {
    "colab": {
     "base_uri": "https://localhost:8080/"
    },
    "id": "bV-tj5WFR6yu",
    "outputId": "674eb315-1ff3-4597-bcf5-38ece0a812ac"
   },
   "outputs": [
    {
     "name": "stdout",
     "output_type": "stream",
     "text": [
      "\n",
      "The Pmarca Blog Archives\n",
      "(select posts from 2007-2009)\n",
      "Marc Andreessen\n",
      "copyright: Andreessen Horow\n"
     ]
    }
   ],
   "source": [
    "print(documents[0][:100])"
   ]
  },
  {
   "cell_type": "markdown",
   "metadata": {
    "id": "nHlTvCzYR6yu"
   },
   "source": [
    "### Splitting Text Into Chunks\n",
    "\n",
    "As we can see, there is one massive document.\n",
    "\n",
    "We'll want to chunk the document into smaller parts so it's easier to pass the most relevant snippets to the LLM.\n",
    "\n",
    "There is no fixed way to split/chunk documents - and you'll need to rely on some intuition as well as knowing your data *very* well in order to build the most robust system.\n",
    "\n",
    "For this toy example, we'll just split blindly on length.\n",
    "\n",
    ">There's an opportunity to clear up some terminology here, for this course we will be stick to the following:\n",
    ">\n",
    ">- \"source documents\" : The `.txt`, `.pdf`, `.html`, ..., files that make up the files and information we start with in its raw format\n",
    ">- \"document(s)\" : single (or more) text object(s)\n",
    ">- \"corpus\" : the combination of all of our documents"
   ]
  },
  {
   "cell_type": "markdown",
   "metadata": {
    "id": "2G6Voc0jR6yv"
   },
   "source": [
    "As you can imagine (though it's not specifically true in this toy example) the idea of splitting documents is to break them into managable sized chunks that retain the most relevant local context."
   ]
  },
  {
   "cell_type": "code",
   "execution_count": 5,
   "metadata": {
    "colab": {
     "base_uri": "https://localhost:8080/"
    },
    "id": "UMC4tsEmR6yv",
    "outputId": "08689c0b-57cd-4040-942a-8193e997f5cb"
   },
   "outputs": [
    {
     "data": {
      "text/plain": [
       "373"
      ]
     },
     "execution_count": 5,
     "metadata": {},
     "output_type": "execute_result"
    }
   ],
   "source": [
    "text_splitter = CharacterTextSplitter()\n",
    "split_documents = text_splitter.split_texts(documents)\n",
    "len(split_documents)"
   ]
  },
  {
   "cell_type": "markdown",
   "metadata": {
    "id": "W2wKT0WLR6yv"
   },
   "source": [
    "Let's take a look at some of the documents we've managed to split."
   ]
  },
  {
   "cell_type": "code",
   "execution_count": 6,
   "metadata": {
    "colab": {
     "base_uri": "https://localhost:8080/"
    },
    "id": "vcYMwWJoR6yv",
    "outputId": "20d69876-feca-4826-b4be-32915276987a"
   },
   "outputs": [
    {
     "data": {
      "text/plain": [
       "['\\ufeff\\nThe Pmarca Blog Archives\\n(select posts from 2007-2009)\\nMarc Andreessen\\ncopyright: Andreessen Horowitz\\ncover design: Jessica Hagy\\nproduced using: Pressbooks\\nContents\\nTHE PMARCA GUIDE TO STARTUPS\\nPart 1: Why not to do a startup 2\\nPart 2: When the VCs say \"no\" 10\\nPart 3: \"But I don\\'t know any VCs!\" 18\\nPart 4: The only thing that matters 25\\nPart 5: The Moby Dick theory of big companies 33\\nPart 6: How much funding is too little? Too much? 41\\nPart 7: Why a startup\\'s initial business plan doesn\\'t\\nmatter that much\\n49\\nTHE PMARCA GUIDE TO HIRING\\nPart 8: Hiring, managing, promoting, and Dring\\nexecutives\\n54\\nPart 9: How to hire a professional CEO 68\\nHow to hire the best people you\\'ve ever worked\\nwith\\n69\\nTHE PMARCA GUIDE TO BIG COMPANIES\\nPart 1: Turnaround! 82\\nPart 2: Retaining great people 86\\nTHE PMARCA GUIDE TO CAREER, PRODUCTIVITY,\\nAND SOME OTHER THINGS\\nIntroduction 97\\nPart 1: Opportunity 99\\nPart 2: Skills and education 107\\nPart 3: Where to go and why 120\\nThe Pmarca Guide to Personal Productivi']"
      ]
     },
     "execution_count": 6,
     "metadata": {},
     "output_type": "execute_result"
    }
   ],
   "source": [
    "split_documents[0:1]"
   ]
  },
  {
   "cell_type": "markdown",
   "metadata": {
    "id": "HOU-RFP_R6yv"
   },
   "source": [
    "## Task 3: Embeddings and Vectors\n",
    "\n",
    "Next, we have to convert our corpus into a \"machine readable\" format as we explored in the Embedding Primer notebook.\n",
    "\n",
    "Today, we're going to talk about the actual process of creating, and then storing, these embeddings, and how we can leverage that to intelligently add context to our queries."
   ]
  },
  {
   "cell_type": "markdown",
   "metadata": {},
   "source": [
    "### OpenAI API Key\n",
    "\n",
    "In order to access OpenAI's APIs, we'll need to provide our OpenAI API Key!\n",
    "\n",
    "You can work through the folder \"OpenAI API Key Setup\" for more information on this process if you don't already have an API Key!"
   ]
  },
  {
   "cell_type": "code",
   "execution_count": 7,
   "metadata": {},
   "outputs": [],
   "source": [
    "import os\n",
    "import openai\n",
    "from getpass import getpass\n",
    "\n",
    "openai.api_key = getpass(\"OpenAI API Key: \")\n",
    "os.environ[\"OPENAI_API_KEY\"] = openai.api_key"
   ]
  },
  {
   "cell_type": "markdown",
   "metadata": {},
   "source": [
    "### Vector Database\n",
    "\n",
    "Let's set up our vector database to hold all our documents and their embeddings!"
   ]
  },
  {
   "cell_type": "markdown",
   "metadata": {
    "id": "kDQrfAR1R6yv"
   },
   "source": [
    "While this is all baked into 1 call - we can look at some of the code that powers this process to get a better understanding:\n",
    "\n",
    "Let's look at our `VectorDatabase().__init__()`:\n",
    "\n",
    "```python\n",
    "def __init__(self, embedding_model: EmbeddingModel = None):\n",
    "        self.vectors = defaultdict(np.array)\n",
    "        self.embedding_model = embedding_model or EmbeddingModel()\n",
    "```\n",
    "\n",
    "As you can see - our vectors are merely stored as a dictionary of `np.array` objects.\n",
    "\n",
    "Secondly, our `VectorDatabase()` has a default `EmbeddingModel()` which is a wrapper for OpenAI's `text-embedding-3-small` model.\n",
    "\n",
    "> **Quick Info About `text-embedding-3-small`**:\n",
    "> - It has a context window of **8191** tokens\n",
    "> - It returns vectors with dimension **1536**"
   ]
  },
  {
   "cell_type": "markdown",
   "metadata": {
    "id": "L273pRdeR6yv"
   },
   "source": [
    "#### ❓Question #1:\n",
    "\n",
    "The default embedding dimension of `text-embedding-3-small` is 1536, as noted above. \n",
    "\n",
    "1. Is there any way to modify this dimension?\n",
    "2. What technique does OpenAI use to achieve this?\n",
    "\n",
    "> NOTE: Check out this [API documentation](https://platform.openai.com/docs/api-reference/embeddings/create) for the answer to question #1.1, and [this documentation](https://platform.openai.com/docs/guides/embeddings/use-cases) for an answer to question #1.2!\n"
   ]
  },
  {
   "cell_type": "markdown",
   "metadata": {},
   "source": [
    "##### ✅ Answer:\n",
    "1. We can't modify the model but we can use dynamic dimension reduction to create smaller embeddings.\n",
    "2. OpenAI trains a separate model whose native ouput has fewer dimensions. They don't dynamically shrink embeddings."
   ]
  },
  {
   "cell_type": "markdown",
   "metadata": {
    "id": "w5FZY7K3R6yv"
   },
   "source": [
    "We can call the `async_get_embeddings` method of our `EmbeddingModel()` on a list of `str` and receive a list of `float` back!\n",
    "\n",
    "```python\n",
    "async def async_get_embeddings(self, list_of_text: List[str]) -> List[List[float]]:\n",
    "        return await aget_embeddings(\n",
    "            list_of_text=list_of_text, engine=self.embeddings_model_name\n",
    "        )\n",
    "```"
   ]
  },
  {
   "cell_type": "markdown",
   "metadata": {
    "id": "cSct6X0aR6yv"
   },
   "source": [
    "We cast those to `np.array` when we build our `VectorDatabase()`:\n",
    "\n",
    "```python\n",
    "async def abuild_from_list(self, list_of_text: List[str]) -> \"VectorDatabase\":\n",
    "        embeddings = await self.embedding_model.async_get_embeddings(list_of_text)\n",
    "        for text, embedding in zip(list_of_text, embeddings):\n",
    "            self.insert(text, np.array(embedding))\n",
    "        return self\n",
    "```\n",
    "\n",
    "And that's all we need to do!"
   ]
  },
  {
   "cell_type": "code",
   "execution_count": 8,
   "metadata": {
    "id": "O4KoLbVDR6yv"
   },
   "outputs": [],
   "source": [
    "vector_db = VectorDatabase()\n",
    "vector_db = asyncio.run(vector_db.abuild_from_list(split_documents))"
   ]
  },
  {
   "cell_type": "markdown",
   "metadata": {
    "id": "SSZwaGvpR6yv"
   },
   "source": [
    "#### ❓Question #2:\n",
    "\n",
    "What are the benefits of using an `async` approach to collecting our embeddings?\n",
    "\n",
    "> NOTE: Determining the core difference between `async` and `sync` will be useful! If you get stuck - ask ChatGPT!"
   ]
  },
  {
   "cell_type": "markdown",
   "metadata": {},
   "source": [
    "##### ✅ Answer: Async allows for higher throughput and has higher injest speed compared to sync. It also scales cleanly.\n"
   ]
  },
  {
   "cell_type": "markdown",
   "metadata": {
    "id": "nRBdIt-xR6yw"
   },
   "source": [
    "So, to review what we've done so far in natural language:\n",
    "\n",
    "1. We load source documents\n",
    "2. We split those source documents into smaller chunks (documents)\n",
    "3. We send each of those documents to the `text-embedding-3-small` OpenAI API endpoint\n",
    "4. We store each of the text representations with the vector representations as keys/values in a dictionary"
   ]
  },
  {
   "cell_type": "markdown",
   "metadata": {
    "id": "4-vWANZyR6yw"
   },
   "source": [
    "### Semantic Similarity\n",
    "\n",
    "The next step is to be able to query our `VectorDatabase()` with a `str` and have it return to us vectors and text that is most relevant from our corpus.\n",
    "\n",
    "We're going to use the following process to achieve this in our toy example:\n",
    "\n",
    "1. We need to embed our query with the same `EmbeddingModel()` as we used to construct our `VectorDatabase()`\n",
    "2. We loop through every vector in our `VectorDatabase()` and use a distance measure to compare how related they are\n",
    "3. We return a list of the top `k` closest vectors, with their text representations\n",
    "\n",
    "There's some very heavy optimization that can be done at each of these steps - but let's just focus on the basic pattern in this notebook.\n",
    "\n",
    "> We are using [cosine similarity](https://www.engati.com/glossary/cosine-similarity) as a distance metric in this example - but there are many many distance metrics you could use - like [these](https://flavien-vidal.medium.com/similarity-distances-for-natural-language-processing-16f63cd5ba55)\n",
    "\n",
    "> We are using a rather inefficient way of calculating relative distance between the query vector and all other vectors - there are more advanced approaches that are much more efficient, like [ANN](https://towardsdatascience.com/comprehensive-guide-to-approximate-nearest-neighbors-algorithms-8b94f057d6b6)"
   ]
  },
  {
   "cell_type": "code",
   "execution_count": 9,
   "metadata": {
    "colab": {
     "base_uri": "https://localhost:8080/"
    },
    "id": "76d96uavR6yw",
    "outputId": "bbfccc31-20a2-41c7-c14d-46554a43ed2d"
   },
   "outputs": [
    {
     "data": {
      "text/plain": [
       "[('ordingly.\\nSeventh, when hiring the executive to run your former specialty, be\\ncareful you don’t hire someone weak on purpose.\\nThis sounds silly, but you wouldn’t believe how oaen it happens.\\nThe CEO who used to be a product manager who has a weak\\nproduct management executive. The CEO who used to be in\\nsales who has a weak sales executive. The CEO who used to be\\nin marketing who has a weak marketing executive.\\nI call this the “Michael Eisner Memorial Weak Executive Problem” — aaer the CEO of Disney who had previously been a brilliant TV network executive. When he bought ABC at Disney, it\\npromptly fell to fourth place. His response? “If I had an extra\\ntwo days a week, I could turn around ABC myself.” Well, guess\\nwhat, he didn’t have an extra two days a week.\\nA CEO — or a startup founder — oaen has a hard time letting\\ngo of the function that brought him to the party. The result: you\\nhire someone weak into the executive role for that function so\\nthat you can continue to be “the man” — cons',\n",
       "  np.float64(0.6538793469704776)),\n",
       " ('m. They have areas where they are truly deXcient in judgment or skill set. That’s just life. Almost nobody is brilliant\\nat everything. When hiring and when Hring executives, you\\nmust therefore focus on strength rather than lack of weakness. Everybody has severe weaknesses even if you can’t see\\nthem yet. When managing, it’s oaen useful to micromanage and\\nto provide remedial training around these weaknesses. Doing so\\nmay make the diWerence between an executive succeeding or\\nfailing.\\nFor example, you might have a brilliant engineering executive\\nwho generates excellent team loyalty, has terriXc product judgment and makes the trains run on time. This same executive\\nmay be very poor at relating to the other functions in the company. She may generate far more than her share of cross-functional conYicts, cut herself oW from critical information, and\\nsigniXcantly impede your ability to sell and market eWectively.\\nYour alternatives are:\\n(a) Macro-manage and give her an annual or quarterly object',\n",
       "  np.float64(0.5035609004539859)),\n",
       " ('ed?\\nIn reality — as opposed to Marc’s warped view of reality — it will\\nbe extremely helpful for Marc [if he were actually the CEO,\\nwhich he is not] to meet with the new head of engineering daily\\nwhen she comes on board and review all of her thinking and\\ndecisions. This level of micromanagement will accelerate her\\ntraining and improve her long-term eWectiveness. It will make\\nher seem smarter to the rest of the organization which will build\\ncredibility and conXdence while she comes up to speed. Micromanaging new executives is generally a good idea for a limited\\nperiod of time.\\nHowever, that is not the only time that it makes sense to micro66 The Pmarca Blog Archives\\nmanage executives. It turns out that just about every executive\\nin the world has a few things that are seriously wrong with\\nthem. They have areas where they are truly deXcient in judgment or skill set. That’s just life. Almost nobody is brilliant\\nat everything. When hiring and when Hring executives, you\\nmust therefore focus o',\n",
       "  np.float64(0.4813899149981631))]"
      ]
     },
     "execution_count": 9,
     "metadata": {},
     "output_type": "execute_result"
    }
   ],
   "source": [
    "vector_db.search_by_text(\"What is the Michael Eisner Memorial Weak Executive Problem?\", k=3)"
   ]
  },
  {
   "cell_type": "markdown",
   "metadata": {
    "id": "TehsfIiKR6yw"
   },
   "source": [
    "## Task 4: Prompts\n",
    "\n",
    "In the following section, we'll be looking at the role of prompts - and how they help us to guide our application in the right direction.\n",
    "\n",
    "In this notebook, we're going to rely on the idea of \"zero-shot in-context learning\".\n",
    "\n",
    "This is a lot of words to say: \"We will ask it to perform our desired task in the prompt, and provide no examples.\""
   ]
  },
  {
   "cell_type": "markdown",
   "metadata": {
    "id": "yXpA0UveR6yw"
   },
   "source": [
    "### XYZRolePrompt\n",
    "\n",
    "Before we do that, let's stop and think a bit about how OpenAI's chat models work.\n",
    "\n",
    "We know they have roles - as is indicated in the following API [documentation](https://platform.openai.com/docs/api-reference/chat/create#chat/create-messages)\n",
    "\n",
    "There are three roles, and they function as follows (taken directly from [OpenAI](https://platform.openai.com/docs/guides/gpt/chat-completions-api)):\n",
    "\n",
    "- `{\"role\" : \"system\"}` : The system message helps set the behavior of the assistant. For example, you can modify the personality of the assistant or provide specific instructions about how it should behave throughout the conversation. However note that the system message is optional and the model’s behavior without a system message is likely to be similar to using a generic message such as \"You are a helpful assistant.\"\n",
    "- `{\"role\" : \"user\"}` : The user messages provide requests or comments for the assistant to respond to.\n",
    "- `{\"role\" : \"assistant\"}` : Assistant messages store previous assistant responses, but can also be written by you to give examples of desired behavior.\n",
    "\n",
    "The main idea is this:\n",
    "\n",
    "1. You start with a system message that outlines how the LLM should respond, what kind of behaviours you can expect from it, and more\n",
    "2. Then, you can provide a few examples in the form of \"assistant\"/\"user\" pairs\n",
    "3. Then, you prompt the model with the true \"user\" message.\n",
    "\n",
    "In this example, we'll be forgoing the 2nd step for simplicities sake."
   ]
  },
  {
   "cell_type": "markdown",
   "metadata": {
    "id": "gdZ2KWKSR6yw"
   },
   "source": [
    "#### Utility Functions\n",
    "\n",
    "You'll notice that we're using some utility functions from the `aimakerspace` module - let's take a peek at these and see what they're doing!"
   ]
  },
  {
   "cell_type": "markdown",
   "metadata": {
    "id": "GFbeJDDsR6yw"
   },
   "source": [
    "##### XYZRolePrompt"
   ]
  },
  {
   "cell_type": "markdown",
   "metadata": {
    "id": "5mojJSE3R6yw"
   },
   "source": [
    "Here we have our `system`, `user`, and `assistant` role prompts.\n",
    "\n",
    "Let's take a peek at what they look like:\n",
    "\n",
    "```python\n",
    "class BasePrompt:\n",
    "    def __init__(self, prompt):\n",
    "        \"\"\"\n",
    "        Initializes the BasePrompt object with a prompt template.\n",
    "\n",
    "        :param prompt: A string that can contain placeholders within curly braces\n",
    "        \"\"\"\n",
    "        self.prompt = prompt\n",
    "        self._pattern = re.compile(r\"\\{([^}]+)\\}\")\n",
    "\n",
    "    def format_prompt(self, **kwargs):\n",
    "        \"\"\"\n",
    "        Formats the prompt string using the keyword arguments provided.\n",
    "\n",
    "        :param kwargs: The values to substitute into the prompt string\n",
    "        :return: The formatted prompt string\n",
    "        \"\"\"\n",
    "        matches = self._pattern.findall(self.prompt)\n",
    "        return self.prompt.format(**{match: kwargs.get(match, \"\") for match in matches})\n",
    "\n",
    "    def get_input_variables(self):\n",
    "        \"\"\"\n",
    "        Gets the list of input variable names from the prompt string.\n",
    "\n",
    "        :return: List of input variable names\n",
    "        \"\"\"\n",
    "        return self._pattern.findall(self.prompt)\n",
    "```\n",
    "\n",
    "Then we have our `RolePrompt` which laser focuses us on the role pattern found in most API endpoints for LLMs.\n",
    "\n",
    "```python\n",
    "class RolePrompt(BasePrompt):\n",
    "    def __init__(self, prompt, role: str):\n",
    "        \"\"\"\n",
    "        Initializes the RolePrompt object with a prompt template and a role.\n",
    "\n",
    "        :param prompt: A string that can contain placeholders within curly braces\n",
    "        :param role: The role for the message ('system', 'user', or 'assistant')\n",
    "        \"\"\"\n",
    "        super().__init__(prompt)\n",
    "        self.role = role\n",
    "\n",
    "    def create_message(self, **kwargs):\n",
    "        \"\"\"\n",
    "        Creates a message dictionary with a role and a formatted message.\n",
    "\n",
    "        :param kwargs: The values to substitute into the prompt string\n",
    "        :return: Dictionary containing the role and the formatted message\n",
    "        \"\"\"\n",
    "        return {\"role\": self.role, \"content\": self.format_prompt(**kwargs)}\n",
    "```\n",
    "\n",
    "We'll look at how the `SystemRolePrompt` is constructed to get a better idea of how that extension works:\n",
    "\n",
    "```python\n",
    "class SystemRolePrompt(RolePrompt):\n",
    "    def __init__(self, prompt: str):\n",
    "        super().__init__(prompt, \"system\")\n",
    "```\n",
    "\n",
    "That pattern is repeated for our `UserRolePrompt` and our `AssistantRolePrompt` as well."
   ]
  },
  {
   "cell_type": "markdown",
   "metadata": {
    "id": "D361R6sMR6yw"
   },
   "source": [
    "##### ChatOpenAI"
   ]
  },
  {
   "cell_type": "markdown",
   "metadata": {
    "id": "HJVQ2Pm8R6yw"
   },
   "source": [
    "Next we have our model, which is converted to a format analagous to libraries like LangChain and LlamaIndex.\n",
    "\n",
    "Let's take a peek at how that is constructed:\n",
    "\n",
    "```python\n",
    "class ChatOpenAI:\n",
    "    def __init__(self, model_name: str = \"gpt-4.1-mini\"):\n",
    "        self.model_name = model_name\n",
    "        self.openai_api_key = os.getenv(\"OPENAI_API_KEY\")\n",
    "        if self.openai_api_key is None:\n",
    "            raise ValueError(\"OPENAI_API_KEY is not set\")\n",
    "\n",
    "    def run(self, messages, text_only: bool = True):\n",
    "        if not isinstance(messages, list):\n",
    "            raise ValueError(\"messages must be a list\")\n",
    "\n",
    "        openai.api_key = self.openai_api_key\n",
    "        response = openai.ChatCompletion.create(\n",
    "            model=self.model_name, messages=messages\n",
    "        )\n",
    "\n",
    "        if text_only:\n",
    "            return response.choices[0].message.content\n",
    "\n",
    "        return response\n",
    "```"
   ]
  },
  {
   "cell_type": "markdown",
   "metadata": {
    "id": "qCU7FfhIR6yw"
   },
   "source": [
    "#### ❓ Question #3:\n",
    "\n",
    "When calling the OpenAI API - are there any ways we can achieve more reproducible outputs?\n",
    "\n",
    "> NOTE: Check out [this section](https://platform.openai.com/docs/guides/text-generation/) of the OpenAI documentation for the answer!"
   ]
  },
  {
   "cell_type": "markdown",
   "metadata": {},
   "source": [
    "##### ✅ Answer: Prompt engineering especially pinning your production apps to specific model snapshots helps with consistency. Buildiing evals that measure behavior of prompts. Choosing reasoning models and the Responses API if building a text generation app. PRoviding instructions to the model with differing levels of authority using 'instructions' API parameter along with message roles. Using reusable prompts that are used in API requests as opposed to specifying the content of prompts in code.\n"
   ]
  },
  {
   "cell_type": "markdown",
   "metadata": {
    "id": "c5wcjMLCR6yw"
   },
   "source": [
    "### Creating and Prompting OpenAI's `gpt-4.1-mini`!\n",
    "\n",
    "Let's tie all these together and use it to prompt `gpt-4.1-mini`!"
   ]
  },
  {
   "cell_type": "code",
   "execution_count": 10,
   "metadata": {
    "id": "WIfpIot7R6yw"
   },
   "outputs": [],
   "source": [
    "from aimakerspace.openai_utils.prompts import (\n",
    "    UserRolePrompt,\n",
    "    SystemRolePrompt,\n",
    "    AssistantRolePrompt,\n",
    ")\n",
    "\n",
    "from aimakerspace.openai_utils.chatmodel import ChatOpenAI\n",
    "\n",
    "chat_openai = ChatOpenAI()\n",
    "user_prompt_template = \"{content}\"\n",
    "user_role_prompt = UserRolePrompt(user_prompt_template)\n",
    "system_prompt_template = (\n",
    "    \"You are an expert in {expertise}, you always answer in a kind way.\"\n",
    ")\n",
    "system_role_prompt = SystemRolePrompt(system_prompt_template)\n",
    "\n",
    "messages = [\n",
    "    system_role_prompt.create_message(expertise=\"Python\"),\n",
    "    user_role_prompt.create_message(\n",
    "        content=\"What is the best way to write a loop?\"\n",
    "    ),\n",
    "]\n",
    "\n",
    "response = chat_openai.run(messages)"
   ]
  },
  {
   "cell_type": "code",
   "execution_count": 11,
   "metadata": {
    "colab": {
     "base_uri": "https://localhost:8080/"
    },
    "id": "dHo7lssNR6yw",
    "outputId": "1d3823fa-bb6b-45f6-ddba-b41686388324"
   },
   "outputs": [
    {
     "name": "stdout",
     "output_type": "stream",
     "text": [
      "Hello! The best way to write a loop in Python depends on what you want to achieve. Generally, Python provides two main types of loops: `for` loops and `while` loops.\n",
      "\n",
      "Here’s a quick overview with examples to help you decide:\n",
      "\n",
      "### 1. `for` loop\n",
      "Use a `for` loop when you want to iterate over a sequence (like a list, tuple, string, or range).\n",
      "\n",
      "Example:\n",
      "```python\n",
      "# Loop through numbers 0 to 4\n",
      "for i in range(5):\n",
      "    print(i)\n",
      "```\n",
      "\n",
      "This loops 5 times, printing numbers 0 through 4.\n",
      "\n",
      "### 2. `while` loop\n",
      "Use a `while` loop when you want to repeat something as long as a condition is true.\n",
      "\n",
      "Example:\n",
      "```python\n",
      "count = 0\n",
      "while count < 5:\n",
      "    print(count)\n",
      "    count += 1\n",
      "```\n",
      "\n",
      "This also prints numbers 0 through 4 until the condition becomes false.\n",
      "\n",
      "---\n",
      "\n",
      "### Best practices for writing loops:\n",
      "- Keep the loop simple and readable.\n",
      "- Avoid infinite loops by ensuring the condition will eventually be false.\n",
      "- Use `for` loops when iterating over a known sequence or range.\n",
      "- Use `while` loops when the number of iterations depends on a condition.\n",
      "\n",
      "If you want, I can provide examples for a specific use case! 😊\n"
     ]
    }
   ],
   "source": [
    "print(response)"
   ]
  },
  {
   "cell_type": "markdown",
   "metadata": {
    "id": "r2nxxhB2R6yy"
   },
   "source": [
    "## Task 5: Retrieval Augmented Generation\n",
    "\n",
    "Now we can create a RAG prompt - which will help our system behave in a way that makes sense!\n",
    "\n",
    "There is much you could do here, many tweaks and improvements to be made!"
   ]
  },
  {
   "cell_type": "code",
   "execution_count": 12,
   "metadata": {
    "id": "D1hamzGaR6yy"
   },
   "outputs": [],
   "source": [
    "RAG_SYSTEM_TEMPLATE = \"\"\"You are a knowledgeable assistant that answers questions based strictly on provided context.\n",
    "\n",
    "Instructions:\n",
    "- Only answer questions using information from the provided context\n",
    "- If the context doesn't contain relevant information, respond with \"I don't know\"\n",
    "- Be accurate and cite specific parts of the context when possible\n",
    "- Keep responses {response_style} and {response_length}\n",
    "- Only use the provided context. Do not use external knowledge.\n",
    "- Only provide answers when you are confident the context supports your response.\"\"\"\n",
    "\n",
    "RAG_USER_TEMPLATE = \"\"\"Context Information:\n",
    "{context}\n",
    "\n",
    "Number of relevant sources found: {context_count}\n",
    "{similarity_scores}\n",
    "\n",
    "Question: {user_query}\n",
    "\n",
    "Please provide your answer based solely on the context above.\"\"\"\n",
    "\n",
    "rag_system_prompt = SystemRolePrompt(\n",
    "    RAG_SYSTEM_TEMPLATE,\n",
    "    strict=True,\n",
    "    defaults={\n",
    "        \"response_style\": \"concise\",\n",
    "        \"response_length\": \"brief\"\n",
    "    }\n",
    ")\n",
    "\n",
    "rag_user_prompt = UserRolePrompt(\n",
    "    RAG_USER_TEMPLATE,\n",
    "    strict=True,\n",
    "    defaults={\n",
    "        \"context_count\": \"\",\n",
    "        \"similarity_scores\": \"\"\n",
    "    }\n",
    ")"
   ]
  },
  {
   "cell_type": "markdown",
   "metadata": {},
   "source": [
    "Now we can create our pipeline!"
   ]
  },
  {
   "cell_type": "code",
   "execution_count": 13,
   "metadata": {},
   "outputs": [],
   "source": [
    "class RetrievalAugmentedQAPipeline:\n",
    "    def __init__(self, llm: ChatOpenAI, vector_db_retriever: VectorDatabase, \n",
    "                 response_style: str = \"detailed\", include_scores: bool = False) -> None:\n",
    "        self.llm = llm\n",
    "        self.vector_db_retriever = vector_db_retriever\n",
    "        self.response_style = response_style\n",
    "        self.include_scores = include_scores\n",
    "\n",
    "    def run_pipeline(self, user_query: str, k: int = 4, **system_kwargs) -> dict:\n",
    "        # Retrieve relevant contexts\n",
    "        context_list = self.vector_db_retriever.search_by_text(user_query, k=k)\n",
    "        \n",
    "        context_prompt = \"\"\n",
    "        similarity_scores = []\n",
    "        \n",
    "        for i, (context, score) in enumerate(context_list, 1):\n",
    "            context_prompt += f\"[Source {i}]: {context}\\n\\n\"\n",
    "            similarity_scores.append(f\"Source {i}: {score:.3f}\")\n",
    "        \n",
    "        # Create system message with parameters\n",
    "        system_params = {\n",
    "            \"response_style\": self.response_style,\n",
    "            \"response_length\": system_kwargs.get(\"response_length\", \"detailed\")\n",
    "        }\n",
    "        \n",
    "        formatted_system_prompt = rag_system_prompt.create_message(**system_params)\n",
    "        \n",
    "        user_params = {\n",
    "            \"user_query\": user_query,\n",
    "            \"context\": context_prompt.strip(),\n",
    "            \"context_count\": len(context_list),\n",
    "            \"similarity_scores\": f\"Relevance scores: {', '.join(similarity_scores)}\" if self.include_scores else \"\"\n",
    "        }\n",
    "        \n",
    "        formatted_user_prompt = rag_user_prompt.create_message(**user_params)\n",
    "\n",
    "        return {\n",
    "            \"response\": self.llm.run([formatted_system_prompt, formatted_user_prompt]), \n",
    "            \"context\": context_list,\n",
    "            \"context_count\": len(context_list),\n",
    "            \"similarity_scores\": similarity_scores if self.include_scores else None,\n",
    "            \"prompts_used\": {\n",
    "                \"system\": formatted_system_prompt,\n",
    "                \"user\": formatted_user_prompt\n",
    "            }\n",
    "        }"
   ]
  },
  {
   "cell_type": "code",
   "execution_count": 14,
   "metadata": {},
   "outputs": [
    {
     "name": "stdout",
     "output_type": "stream",
     "text": [
      "Response: The \"Michael Eisner Memorial Weak Executive Problem\" refers to a situation where a CEO or startup founder, who previously excelled in a particular function within the company, hires a weak executive to run that same function after they advance to the CEO role. This happens because the CEO has difficulty letting go of the function that brought them success and wants to remain the central figure (\"the man\") in that area. As a result, they intentionally or unintentionally hire someone weak for that executive role, undermining the effectiveness of that function.\n",
      "\n",
      "The term is named after Michael Eisner, the former CEO of Disney, who had been a brilliant TV network executive. When he bought ABC at Disney, ABC fell to fourth place. Eisner claimed that if he had an extra two days a week, he could turn around ABC himself. However, since he did not have that extra time, the weak executive problem came to light, showing the difficulty a CEO has in relinquishing control over their original specialty.\n",
      "\n",
      "(Source 1)\n",
      "\n",
      "Context Count: 3\n",
      "Similarity Scores: ['Source 1: 0.658', 'Source 2: 0.509', 'Source 3: 0.479']\n"
     ]
    }
   ],
   "source": [
    "rag_pipeline = RetrievalAugmentedQAPipeline(\n",
    "    vector_db_retriever=vector_db,\n",
    "    llm=chat_openai,\n",
    "    response_style=\"detailed\",\n",
    "    include_scores=True\n",
    ")\n",
    "\n",
    "result = rag_pipeline.run_pipeline(\n",
    "    \"What is the 'Michael Eisner Memorial Weak Executive Problem'?\",\n",
    "    k=3,\n",
    "    response_length=\"comprehensive\", \n",
    "    include_warnings=True,\n",
    "    confidence_required=True\n",
    ")\n",
    "\n",
    "print(f\"Response: {result['response']}\")\n",
    "print(f\"\\nContext Count: {result['context_count']}\")\n",
    "print(f\"Similarity Scores: {result['similarity_scores']}\")"
   ]
  },
  {
   "cell_type": "markdown",
   "metadata": {
    "id": "zZIJI19uR6yz"
   },
   "source": [
    "#### ❓ Question #4:\n",
    "\n",
    "What prompting strategies could you use to make the LLM have a more thoughtful, detailed response?\n",
    "\n",
    "What is that strategy called?\n",
    "\n",
    "> NOTE: You can look through our [OpenAI Responses API](https://colab.research.google.com/drive/14SCfRnp39N7aoOx8ZxadWb0hAqk4lQdL?usp=sharing) notebook for an answer to this question if you get stuck!"
   ]
  },
  {
   "cell_type": "markdown",
   "metadata": {},
   "source": [
    "##### ✅ Answer: Changing the reasoning \"effort\" from low to high. Adding developer -level instructions for how to behave or using Mesasge - Based Input Format that uses roles giving more granular control. \n"
   ]
  },
  {
   "cell_type": "markdown",
   "metadata": {},
   "source": [
    "### 🏗️ Activity #1:\n",
    "\n",
    "Enhance your RAG application in some way! \n",
    "\n",
    "Suggestions are: \n",
    "\n",
    "- Allow it to work with PDF files\n",
    "- Implement a new distance metric\n",
    "- Add metadata support to the vector database\n",
    "- Use a different embedding model\n",
    "- Add the capability to ingest a YouTube link\n",
    "\n",
    "While these are suggestions, you should feel free to make whatever augmentations you desire! If you shared an idea during Session 1, think about features you might need to incorporate for your use case! \n",
    "\n",
    "When you're finished making the augments to your RAG application - vibe check it against the old one - see if you can \"feel the improvement\"!\n",
    "\n",
    "> NOTE: These additions might require you to work within the `aimakerspace` library - that's expected!\n",
    "\n",
    "> NOTE: If you're not sure where to start - ask Cursor (CMD/CTRL+L) to guide you through the changes!"
   ]
  },
  {
   "cell_type": "code",
   "execution_count": 22,
   "metadata": {},
   "outputs": [
    {
     "data": {
      "text/plain": [
       "<module 'aimakerspace.text_utils' from '/Users/williamholt/AI-Maker-Space-AIE8/02_Embeddings_and_RAG/aimakerspace/text_utils.py'>"
      ]
     },
     "execution_count": 22,
     "metadata": {},
     "output_type": "execute_result"
    },
    {
     "name": "stdout",
     "output_type": "stream",
     "text": [
      "🚀 Enhanced RAG Application with PDF Support!\n",
      "==================================================\n",
      "\n",
      "📄 Testing PDF Loader...\n",
      "✅ Successfully loaded 1 PDF document(s)\n",
      "📊 PDF content length: 1638 characters\n",
      "📝 First 200 characters of PDF content:\n",
      "----------------------------------------\n",
      "AI and Machine Learning: A Comprehensive Guide\n",
      "This document provides an overview of artificial intelligence and machine learning concepts. It covers\n",
      "the fundamental principles, applications, and futu...\n",
      "----------------------------------------\n",
      "\n",
      "🔄 Loading both TXT and PDF documents...\n",
      "✅ Total documents loaded: 3\n",
      "📚 Created 379 document chunks\n",
      "🗄️ Enhanced vector database populated with 379 chunks\n",
      "✅ Enhanced RAG system ready!\n",
      "\n",
      "🎯 Now you can ask questions about content from both TXT and PDF files!\n"
     ]
    }
   ],
   "source": [
    "# Activity 1: Enhanced RAG with PDF Support\n",
    "# Let's enhance our RAG application to work with PDF files!\n",
    "\n",
    "# First, let's import our new PDF loader\n",
    "# Note: We need to restart the kernel or use importlib to refresh the module cache\n",
    "import importlib\n",
    "import aimakerspace.text_utils\n",
    "importlib.reload(aimakerspace.text_utils)\n",
    "from aimakerspace.text_utils import PdfFileLoader, TextFileLoader, CharacterTextSplitter\n",
    "\n",
    "print(\"🚀 Enhanced RAG Application with PDF Support!\")\n",
    "print(\"=\" * 50)\n",
    "\n",
    "# Test our PDF loader with the sample document\n",
    "print(\"\\n📄 Testing PDF Loader...\")\n",
    "pdf_loader = PdfFileLoader(\"data/test_document.pdf\")\n",
    "pdf_documents = pdf_loader.load_documents()\n",
    "\n",
    "print(f\"✅ Successfully loaded {len(pdf_documents)} PDF document(s)\")\n",
    "print(f\"📊 PDF content length: {len(pdf_documents[0])} characters\")\n",
    "print(f\"📝 First 200 characters of PDF content:\")\n",
    "print(\"-\" * 40)\n",
    "print(pdf_documents[0][:200] + \"...\")\n",
    "print(\"-\" * 40)\n",
    "\n",
    "# Now let's enhance our existing RAG pipeline to work with both TXT and PDF files\n",
    "print(\"\\n🔄 Loading both TXT and PDF documents...\")\n",
    "\n",
    "# Load the original text document\n",
    "text_loader = TextFileLoader(\"data/PMarcaBlogs.txt\")\n",
    "text_documents = text_loader.load_documents()\n",
    "\n",
    "# Load the PDF document\n",
    "pdf_documents = pdf_loader.load_documents()\n",
    "\n",
    "# Combine all documents\n",
    "all_documents = text_documents + pdf_documents\n",
    "print(f\"✅ Total documents loaded: {len(all_documents)}\")\n",
    "\n",
    "# Split all documents into chunks using the existing text splitter\n",
    "text_splitter = CharacterTextSplitter()\n",
    "split_documents = text_splitter.split_texts(all_documents)\n",
    "print(f\"📚 Created {len(split_documents)} document chunks\")\n",
    "\n",
    "# Build the vector database with all documents (using existing pipeline)\n",
    "vector_db_enhanced = VectorDatabase()\n",
    "vector_db_enhanced = asyncio.run(vector_db_enhanced.abuild_from_list(split_documents))\n",
    "print(f\"🗄️ Enhanced vector database populated with {len(split_documents)} chunks\")\n",
    "\n",
    "# Create enhanced RAG pipeline\n",
    "enhanced_rag_pipeline = RetrievalAugmentedQAPipeline(\n",
    "    vector_db_retriever=vector_db_enhanced,\n",
    "    llm=chat_openai,\n",
    "    response_style=\"detailed\",\n",
    "    include_scores=True\n",
    ")\n",
    "\n",
    "print(\"✅ Enhanced RAG system ready!\")\n",
    "print(\"\\n🎯 Now you can ask questions about content from both TXT and PDF files!\")"
   ]
  },
  {
   "cell_type": "code",
   "execution_count": 23,
   "metadata": {},
   "outputs": [
    {
     "name": "stdout",
     "output_type": "stream",
     "text": [
      "🧪 Testing Enhanced RAG System with PDF Content\n",
      "============================================================\n",
      "\n",
      "❓ Question: What are the main types of AI?\n",
      "------------------------------------------------------------\n",
      "🤖 Answer: Based on the provided context, the main types of Artificial Intelligence (AI) are:\n",
      "\n",
      "1. Narrow AI: Designed to perform a specific task.\n",
      "2. General AI: Possesses the ability to understand, learn, and apply knowledge across different domains.\n",
      "\n",
      "This classification is found in Source 2, under the section \"Introduction to Artificial Intelligence,\" which states that AI can be categorized into these two main types.\n",
      "📊 Context Count: 3\n",
      "🎯 Similarity Scores: ['Source 1: 0.597', 'Source 2: 0.549', 'Source 3: 0.291']\n",
      "============================================================\n",
      "\n",
      "❓ Question: What is the Michael Eisner Memorial Weak Executive Problem?\n",
      "------------------------------------------------------------\n",
      "🤖 Answer: The \"Michael Eisner Memorial Weak Executive Problem\" refers to the situation where a CEO or startup founder hires a weak executive in the function that the CEO used to run themselves, often deliberately. This happens because the CEO has a hard time letting go of the function that brought them success and wants to remain \"the man\" in that area. For example, a CEO who was formerly a product manager might hire a weak product management executive, or a CEO with a sales background might hire a weak sales executive. The problem is named after Michael Eisner, the former CEO of Disney, who had been a brilliant TV network executive but, after acquiring ABC, the network fell to fourth place. Eisner believed he could turn ABC around if he had more time, but realistically, he could not because he did not have the bandwidth to personally manage everything (Source 1).\n",
      "📊 Context Count: 3\n",
      "🎯 Similarity Scores: ['Source 1: 0.654', 'Source 2: 0.504', 'Source 3: 0.481']\n",
      "============================================================\n",
      "\n",
      "❓ Question: Explain machine learning fundamentals\n",
      "------------------------------------------------------------\n",
      "🤖 Answer: Machine Learning (ML) is a subset of Artificial Intelligence (AI) that focuses on the development of algorithms and statistical models which enable computer systems to improve their performance on a specific task through experience. The key concepts in machine learning include:\n",
      "\n",
      "- Supervised Learning: Learning with labeled training data, where the model is trained on inputs paired with the correct outputs.\n",
      "- Unsupervised Learning: Finding patterns in data without labeled outputs, where the model attempts to identify structure or groupings within the data.\n",
      "- Reinforcement Learning: Learning through interaction with an environment, where the model learns to make decisions by receiving feedback in the form of rewards or penalties.\n",
      "\n",
      "These fundamentals allow machine learning systems to adapt and improve from experience rather than being explicitly programmed for every task (Sources 1 and 2).\n",
      "📊 Context Count: 3\n",
      "🎯 Similarity Scores: ['Source 1: 0.542', 'Source 2: 0.458', 'Source 3: 0.284']\n",
      "============================================================\n",
      "\n",
      "🎉 Enhanced RAG system successfully working with PDF files!\n",
      "\n",
      "💡 Key Enhancement Made:\n",
      "✅ Added PDF file support using pypdf library\n",
      "✅ Created PdfFileLoader class for PDF document processing\n",
      "✅ Enhanced existing RAG pipeline to handle both TXT and PDF files\n",
      "✅ Integrated PDF processing into the existing RAG workflow\n",
      "\n",
      "🚀 RAG application can now handle both TXT and PDF files!\n"
     ]
    }
   ],
   "source": [
    "# Let's test our enhanced RAG system with some questions!\n",
    "\n",
    "# Test the enhanced RAG system\n",
    "print(\"🧪 Testing Enhanced RAG System with PDF Content\")\n",
    "print(\"=\" * 60)\n",
    "\n",
    "# Test questions that should find content from both TXT and PDF files\n",
    "test_questions = [\n",
    "    \"What are the main types of AI?\",\n",
    "    \"What is the Michael Eisner Memorial Weak Executive Problem?\",\n",
    "    \"Explain machine learning fundamentals\"\n",
    "]\n",
    "\n",
    "# Run the tests\n",
    "for question in test_questions:\n",
    "    print(f\"\\n❓ Question: {question}\")\n",
    "    print(\"-\" * 60)\n",
    "    \n",
    "    result = enhanced_rag_pipeline.run_pipeline(question, k=3)\n",
    "    \n",
    "    print(f\"🤖 Answer: {result['response']}\")\n",
    "    print(f\"📊 Context Count: {result['context_count']}\")\n",
    "    if result['similarity_scores']:\n",
    "        print(f\"🎯 Similarity Scores: {result['similarity_scores']}\")\n",
    "    print(\"=\" * 60)\n",
    "\n",
    "print(\"\\n🎉 Enhanced RAG system successfully working with PDF files!\")\n",
    "print(\"\\n💡 Key Enhancement Made:\")\n",
    "print(\"✅ Added PDF file support using pypdf library\")\n",
    "print(\"✅ Created PdfFileLoader class for PDF document processing\")\n",
    "print(\"✅ Enhanced existing RAG pipeline to handle both TXT and PDF files\")\n",
    "print(\"✅ Integrated PDF processing into the existing RAG workflow\")\n",
    "print(\"\\n🚀 RAG application can now handle both TXT and PDF files!\")\n"
   ]
  },
  {
   "cell_type": "code",
   "execution_count": 24,
   "metadata": {},
   "outputs": [
    {
     "name": "stdout",
     "output_type": "stream",
     "text": [
      "✅ Enhanced RAG Pipeline with Word Wrapping Ready!\n",
      "🎯 Use: rag_with_wrap.ask('Your question here')\n"
     ]
    }
   ],
   "source": [
    "# Enhanced RAG Pipeline with Word Wrapping\n",
    "import textwrap\n",
    "\n",
    "class EnhancedRAGPipeline(RetrievalAugmentedQAPipeline):\n",
    "    \"\"\"Enhanced RAG Pipeline with built-in word wrapping for better readability\"\"\"\n",
    "    \n",
    "    def __init__(self, vector_db_retriever, llm, response_style=\"detailed\", include_scores=False, word_wrap_width=80):\n",
    "        # Initialize parent class with only the parameters it accepts\n",
    "        super().__init__(llm=llm, vector_db_retriever=vector_db_retriever, response_style=response_style, include_scores=include_scores)\n",
    "        self.word_wrap_width = word_wrap_width\n",
    "    \n",
    "    def format_response_with_wrap(self, response, width=None):\n",
    "        \"\"\"Format response with word wrapping for better readability\"\"\"\n",
    "        if width is None:\n",
    "            width = self.word_wrap_width\n",
    "            \n",
    "        wrapped_lines = []\n",
    "        for line in response.split('\\n'):\n",
    "            if len(line) <= width:\n",
    "                wrapped_lines.append(line)\n",
    "            else:\n",
    "                # Use textwrap to wrap long lines\n",
    "                wrapped_lines.extend(textwrap.wrap(line, width=width, break_long_words=False))\n",
    "        return '\\n'.join(wrapped_lines)\n",
    "    \n",
    "    def ask(self, question, k=3, width=None):\n",
    "        \"\"\"Ask a question with word-wrapped response\"\"\"\n",
    "        result = self.run_pipeline(question, k=k)\n",
    "        \n",
    "        print(f\"❓ Question: {question}\")\n",
    "        print(\"-\" * 80)\n",
    "        \n",
    "        # Format the response with word wrapping\n",
    "        wrapped_response = self.format_response_with_wrap(result['response'], width)\n",
    "        print(f\"🤖 Answer:\\n{wrapped_response}\")\n",
    "        \n",
    "        print(f\"\\n📊 Context Count: {result['context_count']}\")\n",
    "        if result['similarity_scores']:\n",
    "            print(f\"🎯 Similarity Scores: {result['similarity_scores']}\")\n",
    "        print(\"=\" * 80)\n",
    "        \n",
    "        return result\n",
    "\n",
    "# Create enhanced pipeline with word wrapping\n",
    "rag_with_wrap = EnhancedRAGPipeline(\n",
    "    vector_db_retriever=vector_db_enhanced,\n",
    "    llm=chat_openai,\n",
    "    response_style=\"detailed\",\n",
    "    include_scores=True,\n",
    "    word_wrap_width=80\n",
    ")\n",
    "\n",
    "print(\"✅ Enhanced RAG Pipeline with Word Wrapping Ready!\")\n",
    "print(\"🎯 Use: rag_with_wrap.ask('Your question here')\")\n"
   ]
  },
  {
   "cell_type": "code",
   "execution_count": 25,
   "metadata": {},
   "outputs": [
    {
     "name": "stdout",
     "output_type": "stream",
     "text": [
      "🧹 Display cleaned up - ready for clean output!\n",
      "==================================================\n"
     ]
    }
   ],
   "source": [
    "# Clean up display and ensure proper formatting\n",
    "import os\n",
    "os.system('clear')  # Clear terminal output\n",
    "\n",
    "# Reset display settings\n",
    "from IPython.display import clear_output\n",
    "clear_output(wait=True)\n",
    "\n",
    "print(\"🧹 Display cleaned up - ready for clean output!\")\n",
    "print(\"=\" * 50)\n"
   ]
  },
  {
   "cell_type": "code",
   "execution_count": 26,
   "metadata": {},
   "outputs": [
    {
     "name": "stdout",
     "output_type": "stream",
     "text": [
      "✅ Jupyter output limits disabled - you'll now see full responses!\n"
     ]
    }
   ],
   "source": [
    "# Configure Jupyter to show full output (no truncation)\n",
    "from IPython.core.interactiveshell import InteractiveShell\n",
    "InteractiveShell.ast_node_interactivity = \"all\"\n",
    "\n",
    "# Also set pandas display options to show more content\n",
    "import pandas as pd\n",
    "pd.set_option('display.max_colwidth', None)\n",
    "pd.set_option('display.max_columns', None)\n",
    "\n",
    "print(\"✅ Jupyter output limits disabled - you'll now see full responses!\")\n"
   ]
  },
  {
   "cell_type": "code",
   "execution_count": 19,
   "metadata": {},
   "outputs": [],
   "source": [
    "# Ready to use! You can now ask questions with word-wrapped responses\n",
    "# rag_with_wrap.ask(\"Your question here\")\n",
    "# rag_with_wrap.ask(\"Your question here\", width=60)  # for narrower text\n"
   ]
  },
  {
   "cell_type": "code",
   "execution_count": 27,
   "metadata": {},
   "outputs": [
    {
     "name": "stdout",
     "output_type": "stream",
     "text": [
      "❓ Question: What are the main types of AI?\n",
      "--------------------------------------------------------------------------------\n",
      "🤖 Answer:\n",
      "According to the provided context from Source 2, the main types of Artificial\n",
      "Intelligence (AI) are:\n",
      "\n",
      "- Narrow AI: Designed to perform a specific task.\n",
      "- General AI: Possesses the ability to understand, learn, and apply knowledge\n",
      "across different domains.\n",
      "\n",
      "This categorization highlights the distinction between AI systems specialized\n",
      "for particular tasks (Narrow AI) and those with broader, human-like cognitive\n",
      "abilities across multiple domains (General AI).\n",
      "\n",
      "📊 Context Count: 3\n",
      "🎯 Similarity Scores: ['Source 1: 0.597', 'Source 2: 0.549', 'Source 3: 0.291']\n",
      "================================================================================\n"
     ]
    },
    {
     "data": {
      "text/plain": [
       "{'response': 'According to the provided context from Source 2, the main types of Artificial Intelligence (AI) are:\\n\\n- Narrow AI: Designed to perform a specific task.\\n- General AI: Possesses the ability to understand, learn, and apply knowledge across different domains.\\n\\nThis categorization highlights the distinction between AI systems specialized for particular tasks (Narrow AI) and those with broader, human-like cognitive abilities across multiple domains (General AI).',\n",
       " 'context': [(\" is a subset of AI that focuses on the development of algorithms and statistical\\nmodels that enable computer systems to improve their performance on a specific task through\\nexperience. Key concepts include: - Supervised Learning: Learning with labeled training data -\\nUnsupervised Learning: Finding patterns in data without labels - Reinforcement Learning: Learning\\nthrough interaction with an environment\\n3. Applications and Future\\nAI and ML have numerous applications across various industries including healthcare, finance,\\ntransportation, and entertainment. The future of AI holds promise for solving complex global challenges\\nwhile also raising important questions about ethics and governance. As these technologies continue to\\nevolve, it's crucial to ensure they are developed and deployed responsibly for the benefit of humanity.\\n\\n\",\n",
       "   np.float64(0.5972406764166517)),\n",
       "  ('AI and Machine Learning: A Comprehensive Guide\\nThis document provides an overview of artificial intelligence and machine learning concepts. It covers\\nthe fundamental principles, applications, and future prospects of these technologies.\\n1. Introduction to Artificial Intelligence\\nArtificial Intelligence (AI) refers to the simulation of human intelligence in machines that are\\nprogrammed to think and learn like humans. The term may also be applied to any machine that exhibits\\ntraits associated with a human mind such as learning and problem-solving. AI can be categorized into\\ntwo main types: - Narrow AI: Designed to perform a specific task - General AI: Possesses the ability to\\nunderstand, learn, and apply knowledge across different domains\\n2. Machine Learning Fundamentals\\nMachine Learning (ML) is a subset of AI that focuses on the development of algorithms and statistical\\nmodels that enable computer systems to improve their performance on a specific task through\\nexperience. Key concepts in',\n",
       "   np.float64(0.5491947799966835)),\n",
       "  ('alue when evaluating candidates.\\n• And process: how to actually run the hiring process, and if\\nnecessary the aaermath of making a mistake.\\nCriteria 7rst\\nLots of people will tell you to hire for intelligence.\\nEspecially in this industry.\\nYou will read, hire the smartest people out there and your company’s success is all but guaranteed.\\nI think intelligence, per se, is highly overrated.\\nSpeciXcally, I am unaware of any actual data that shows a cor-\\nrelation between raw intelligence, as measured by any of the\\nstandard metrics (educational achievement, intelligence tests, or\\nskill at solving logic puzzles) and company success.\\nNow, clearly you don’t want to hire dumb people, and clearly\\nyou’d like to work with smart people.\\nBut let’s get speciXc.\\nMost of the lore in our industry about the role of intelligence\\nin company success comes from two stratospherically successful companies — Microsoa, and now Google — that are famous\\nfor hiring for intelligence.\\nMicrosoa’s metric for intelligence w',\n",
       "   np.float64(0.29123358768398033))],\n",
       " 'context_count': 3,\n",
       " 'similarity_scores': ['Source 1: 0.597',\n",
       "  'Source 2: 0.549',\n",
       "  'Source 3: 0.291'],\n",
       " 'prompts_used': {'system': {'role': 'system',\n",
       "   'content': 'You are a knowledgeable assistant that answers questions based strictly on provided context.\\n\\nInstructions:\\n- Only answer questions using information from the provided context\\n- If the context doesn\\'t contain relevant information, respond with \"I don\\'t know\"\\n- Be accurate and cite specific parts of the context when possible\\n- Keep responses detailed and detailed\\n- Only use the provided context. Do not use external knowledge.\\n- Only provide answers when you are confident the context supports your response.'},\n",
       "  'user': {'role': 'user',\n",
       "   'content': \"Context Information:\\n[Source 1]:  is a subset of AI that focuses on the development of algorithms and statistical\\nmodels that enable computer systems to improve their performance on a specific task through\\nexperience. Key concepts include: - Supervised Learning: Learning with labeled training data -\\nUnsupervised Learning: Finding patterns in data without labels - Reinforcement Learning: Learning\\nthrough interaction with an environment\\n3. Applications and Future\\nAI and ML have numerous applications across various industries including healthcare, finance,\\ntransportation, and entertainment. The future of AI holds promise for solving complex global challenges\\nwhile also raising important questions about ethics and governance. As these technologies continue to\\nevolve, it's crucial to ensure they are developed and deployed responsibly for the benefit of humanity.\\n\\n\\n\\n[Source 2]: AI and Machine Learning: A Comprehensive Guide\\nThis document provides an overview of artificial intelligence and machine learning concepts. It covers\\nthe fundamental principles, applications, and future prospects of these technologies.\\n1. Introduction to Artificial Intelligence\\nArtificial Intelligence (AI) refers to the simulation of human intelligence in machines that are\\nprogrammed to think and learn like humans. The term may also be applied to any machine that exhibits\\ntraits associated with a human mind such as learning and problem-solving. AI can be categorized into\\ntwo main types: - Narrow AI: Designed to perform a specific task - General AI: Possesses the ability to\\nunderstand, learn, and apply knowledge across different domains\\n2. Machine Learning Fundamentals\\nMachine Learning (ML) is a subset of AI that focuses on the development of algorithms and statistical\\nmodels that enable computer systems to improve their performance on a specific task through\\nexperience. Key concepts in\\n\\n[Source 3]: alue when evaluating candidates.\\n• And process: how to actually run the hiring process, and if\\nnecessary the aaermath of making a mistake.\\nCriteria 7rst\\nLots of people will tell you to hire for intelligence.\\nEspecially in this industry.\\nYou will read, hire the smartest people out there and your company’s success is all but guaranteed.\\nI think intelligence, per se, is highly overrated.\\nSpeciXcally, I am unaware of any actual data that shows a cor-\\nrelation between raw intelligence, as measured by any of the\\nstandard metrics (educational achievement, intelligence tests, or\\nskill at solving logic puzzles) and company success.\\nNow, clearly you don’t want to hire dumb people, and clearly\\nyou’d like to work with smart people.\\nBut let’s get speciXc.\\nMost of the lore in our industry about the role of intelligence\\nin company success comes from two stratospherically successful companies — Microsoa, and now Google — that are famous\\nfor hiring for intelligence.\\nMicrosoa’s metric for intelligence w\\n\\nNumber of relevant sources found: 3\\nRelevance scores: Source 1: 0.597, Source 2: 0.549, Source 3: 0.291\\n\\nQuestion: What are the main types of AI?\\n\\nPlease provide your answer based solely on the context above.\"}}}"
      ]
     },
     "execution_count": 27,
     "metadata": {},
     "output_type": "execute_result"
    },
    {
     "name": "stdout",
     "output_type": "stream",
     "text": [
      "❓ Question: Explain machine learning fundamentals\n",
      "--------------------------------------------------------------------------------\n",
      "🤖 Answer:\n",
      "Machine Learning (ML) is a subset of artificial intelligence (AI) that focuses\n",
      "on the development of algorithms and statistical models enabling computer\n",
      "systems to improve their performance on a specific task through experience. The\n",
      "key concepts of machine learning include:\n",
      "\n",
      "- Supervised Learning: This involves learning with labeled training data.\n",
      "- Unsupervised Learning: This refers to finding patterns in data without labels.\n",
      "- Reinforcement Learning: This is learning through interaction with an\n",
      "environment.\n",
      "\n",
      "These fundamentals allow machines to simulate human intelligence by learning and\n",
      "adapting to improve task performance over time (Source 1 and Source 2).\n",
      "\n",
      "📊 Context Count: 3\n",
      "🎯 Similarity Scores: ['Source 1: 0.542', 'Source 2: 0.458', 'Source 3: 0.284']\n",
      "================================================================================\n"
     ]
    },
    {
     "data": {
      "text/plain": [
       "{'response': 'Machine Learning (ML) is a subset of artificial intelligence (AI) that focuses on the development of algorithms and statistical models enabling computer systems to improve their performance on a specific task through experience. The key concepts of machine learning include:\\n\\n- Supervised Learning: This involves learning with labeled training data.\\n- Unsupervised Learning: This refers to finding patterns in data without labels.\\n- Reinforcement Learning: This is learning through interaction with an environment.\\n\\nThese fundamentals allow machines to simulate human intelligence by learning and adapting to improve task performance over time (Source 1 and Source 2).',\n",
       " 'context': [('AI and Machine Learning: A Comprehensive Guide\\nThis document provides an overview of artificial intelligence and machine learning concepts. It covers\\nthe fundamental principles, applications, and future prospects of these technologies.\\n1. Introduction to Artificial Intelligence\\nArtificial Intelligence (AI) refers to the simulation of human intelligence in machines that are\\nprogrammed to think and learn like humans. The term may also be applied to any machine that exhibits\\ntraits associated with a human mind such as learning and problem-solving. AI can be categorized into\\ntwo main types: - Narrow AI: Designed to perform a specific task - General AI: Possesses the ability to\\nunderstand, learn, and apply knowledge across different domains\\n2. Machine Learning Fundamentals\\nMachine Learning (ML) is a subset of AI that focuses on the development of algorithms and statistical\\nmodels that enable computer systems to improve their performance on a specific task through\\nexperience. Key concepts in',\n",
       "   np.float64(0.5424098128989888)),\n",
       "  (\" is a subset of AI that focuses on the development of algorithms and statistical\\nmodels that enable computer systems to improve their performance on a specific task through\\nexperience. Key concepts include: - Supervised Learning: Learning with labeled training data -\\nUnsupervised Learning: Finding patterns in data without labels - Reinforcement Learning: Learning\\nthrough interaction with an environment\\n3. Applications and Future\\nAI and ML have numerous applications across various industries including healthcare, finance,\\ntransportation, and entertainment. The future of AI holds promise for solving complex global challenges\\nwhile also raising important questions about ethics and governance. As these technologies continue to\\nevolve, it's crucial to ensure they are developed and deployed responsibly for the benefit of humanity.\\n\\n\",\n",
       "   np.float64(0.45800757575452383)),\n",
       "  ('s — write it down, and make sure\\neveryone has a copy of it, on paper.\\nIt’s continually shocking how many startups have a random hiring process, and as a result hire apparently randomly.\\nSecond, do basic skills tests.\\nIt’s amazing how many people come in and interview for jobs\\nwhere their resume says they’re qualiXed, but ask them basic\\nquestions about how to do things in their domain, and they Yail.\\nFor example, test programmers on basic algorithms — linked\\nlists, binary searches.\\nJust in pseudocode — it doesn’t matter if they know the relevant\\nJava library calls.\\nIt does matter if they are unable to go up to the whiteboard and\\nwork their way through something that was covered in their Xrst\\nalgorithms course.\\nA lot of people come in and interview for programming jobs\\nwho, at their core, can’t program.\\nAnd it’s such a breath of fresh air when you get someone who\\njust goes, oh yeah, a linked list, sure, let me show you.\\nThe same principle applies to other Xelds.\\nFor a sales rep — have th',\n",
       "   np.float64(0.2842638218281988))],\n",
       " 'context_count': 3,\n",
       " 'similarity_scores': ['Source 1: 0.542',\n",
       "  'Source 2: 0.458',\n",
       "  'Source 3: 0.284'],\n",
       " 'prompts_used': {'system': {'role': 'system',\n",
       "   'content': 'You are a knowledgeable assistant that answers questions based strictly on provided context.\\n\\nInstructions:\\n- Only answer questions using information from the provided context\\n- If the context doesn\\'t contain relevant information, respond with \"I don\\'t know\"\\n- Be accurate and cite specific parts of the context when possible\\n- Keep responses detailed and detailed\\n- Only use the provided context. Do not use external knowledge.\\n- Only provide answers when you are confident the context supports your response.'},\n",
       "  'user': {'role': 'user',\n",
       "   'content': \"Context Information:\\n[Source 1]: AI and Machine Learning: A Comprehensive Guide\\nThis document provides an overview of artificial intelligence and machine learning concepts. It covers\\nthe fundamental principles, applications, and future prospects of these technologies.\\n1. Introduction to Artificial Intelligence\\nArtificial Intelligence (AI) refers to the simulation of human intelligence in machines that are\\nprogrammed to think and learn like humans. The term may also be applied to any machine that exhibits\\ntraits associated with a human mind such as learning and problem-solving. AI can be categorized into\\ntwo main types: - Narrow AI: Designed to perform a specific task - General AI: Possesses the ability to\\nunderstand, learn, and apply knowledge across different domains\\n2. Machine Learning Fundamentals\\nMachine Learning (ML) is a subset of AI that focuses on the development of algorithms and statistical\\nmodels that enable computer systems to improve their performance on a specific task through\\nexperience. Key concepts in\\n\\n[Source 2]:  is a subset of AI that focuses on the development of algorithms and statistical\\nmodels that enable computer systems to improve their performance on a specific task through\\nexperience. Key concepts include: - Supervised Learning: Learning with labeled training data -\\nUnsupervised Learning: Finding patterns in data without labels - Reinforcement Learning: Learning\\nthrough interaction with an environment\\n3. Applications and Future\\nAI and ML have numerous applications across various industries including healthcare, finance,\\ntransportation, and entertainment. The future of AI holds promise for solving complex global challenges\\nwhile also raising important questions about ethics and governance. As these technologies continue to\\nevolve, it's crucial to ensure they are developed and deployed responsibly for the benefit of humanity.\\n\\n\\n\\n[Source 3]: s — write it down, and make sure\\neveryone has a copy of it, on paper.\\nIt’s continually shocking how many startups have a random hiring process, and as a result hire apparently randomly.\\nSecond, do basic skills tests.\\nIt’s amazing how many people come in and interview for jobs\\nwhere their resume says they’re qualiXed, but ask them basic\\nquestions about how to do things in their domain, and they Yail.\\nFor example, test programmers on basic algorithms — linked\\nlists, binary searches.\\nJust in pseudocode — it doesn’t matter if they know the relevant\\nJava library calls.\\nIt does matter if they are unable to go up to the whiteboard and\\nwork their way through something that was covered in their Xrst\\nalgorithms course.\\nA lot of people come in and interview for programming jobs\\nwho, at their core, can’t program.\\nAnd it’s such a breath of fresh air when you get someone who\\njust goes, oh yeah, a linked list, sure, let me show you.\\nThe same principle applies to other Xelds.\\nFor a sales rep — have th\\n\\nNumber of relevant sources found: 3\\nRelevance scores: Source 1: 0.542, Source 2: 0.458, Source 3: 0.284\\n\\nQuestion: Explain machine learning fundamentals\\n\\nPlease provide your answer based solely on the context above.\"}}}"
      ]
     },
     "execution_count": 27,
     "metadata": {},
     "output_type": "execute_result"
    }
   ],
   "source": [
    "# Test the enhanced RAG pipeline with word wrapping\n",
    "rag_with_wrap.ask(\"What are the main types of AI?\")\n",
    "rag_with_wrap.ask(\"Explain machine learning fundamentals\")\n"
   ]
  },
  {
   "cell_type": "code",
   "execution_count": null,
   "metadata": {},
   "outputs": [],
   "source": [
    "\n"
   ]
  },
  {
   "cell_type": "code",
   "execution_count": null,
   "metadata": {},
   "outputs": [],
   "source": [
    "\n"
   ]
  },
  {
   "cell_type": "code",
   "execution_count": null,
   "metadata": {},
   "outputs": [],
   "source": [
    "\n"
   ]
  }
 ],
 "metadata": {
  "colab": {
   "provenance": []
  },
  "kernelspec": {
   "display_name": ".venv",
   "language": "python",
   "name": "python3"
  },
  "language_info": {
   "codemirror_mode": {
    "name": "ipython",
    "version": 3
   },
   "file_extension": ".py",
   "mimetype": "text/x-python",
   "name": "python",
   "nbconvert_exporter": "python",
   "pygments_lexer": "ipython3",
   "version": "3.13.6"
  }
 },
 "nbformat": 4,
 "nbformat_minor": 4
}
